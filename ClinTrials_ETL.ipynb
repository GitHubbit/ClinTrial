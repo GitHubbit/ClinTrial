{
 "cells": [
  {
   "cell_type": "code",
   "execution_count": null,
   "metadata": {},
   "outputs": [],
   "source": [
    "# script will perform ETL on Clinical Trials data from https://aact.ctti-clinicaltrials.org/snapshots\n",
    "# "
   ]
  },
  {
   "cell_type": "code",
   "execution_count": 2,
   "metadata": {},
   "outputs": [
    {
     "data": {
      "text/plain": [
       "<function seaborn.rcmod.set(context='notebook', style='darkgrid', palette='deep', font='sans-serif', font_scale=1, color_codes=True, rc=None)>"
      ]
     },
     "execution_count": 2,
     "metadata": {},
     "output_type": "execute_result"
    }
   ],
   "source": [
    "import seaborn as sns\n",
    "sns.set"
   ]
  },
  {
   "cell_type": "code",
   "execution_count": 14,
   "metadata": {},
   "outputs": [],
   "source": [
    "import os\n",
    "import pandas as pd\n",
    "# shell command: brew install postgresql \n",
    "import pandas as pd\n",
    "import psycopg2\n",
    "import pandas.io.sql as sqlio\n"
   ]
  },
  {
   "cell_type": "code",
   "execution_count": null,
   "metadata": {},
   "outputs": [],
   "source": [
    "# instructions are from: https://aact.ctti-clinicaltrials.org/snapshots\n",
    "# first downloaded database as a zip file\n",
    "# then downloaded Postgresql so that we could rebuild static database on local external hard drive\n",
    "# shell command: unzip ~/Downloads/YYYYMMDD_clinical_trials.zip <----- unzips the files into .dmp\n",
    "# Postgresql command in shell: createdb aact  <----- creates an empty database ready to be populated\n",
    "# Postgresql command in shell: pg_restore -e -v -O -x -d aact --no-owner ~/your_file_path/postgres_data.dmp <----- populates aact database with data from .dmp file"
   ]
  },
  {
   "cell_type": "markdown",
   "metadata": {},
   "source": [
    "# connect to DB and get the column names of the table\n",
    "con = None\n",
    "con = psycopg2.connect(database=\"aact\")\n",
    "con.rollback()\n",
    "cursor = con.cursor()\n",
    "\n",
    "con.autocommit = True # SQL statement is treated as a transaction and is automatically committed right after it is executed\n",
    "sql = '''SELECT * FROM ctgov.conditions;'''\n",
    "cursor.execute(sql)\n",
    "column_names = [desc[0] for desc in cursor.description]\n",
    "for i in column_names:\n",
    "    print(i)\n",
    "con.commit()\n",
    "con.close()"
   ]
  },
  {
   "cell_type": "code",
   "execution_count": 34,
   "metadata": {},
   "outputs": [],
   "source": [
    "# connect to DB and get the column names of the table\n",
    "con = None\n",
    "con = psycopg2.connect(database=\"aact\")\n",
    "con.rollback()\n",
    "cursor = con.cursor()\n",
    "\n",
    "con.autocommit = True # SQL statement is treated as a transaction and is automatically committed right after it is executed\n",
    "sql = '''SELECT * FROM ctgov.conditions;'''\n",
    "cursor.execute(sql)\n",
    "column_names = [desc[0] for desc in cursor.description]\n",
    "tuples = cursor.fetchall()\n",
    "con.close()\n",
    "df = pd.DataFrame(tuples, columns=column_names)\n",
    "\n",
    "\n",
    "\n"
   ]
  },
  {
   "cell_type": "code",
   "execution_count": 35,
   "metadata": {},
   "outputs": [
    {
     "data": {
      "text/html": [
       "<div>\n",
       "<style scoped>\n",
       "    .dataframe tbody tr th:only-of-type {\n",
       "        vertical-align: middle;\n",
       "    }\n",
       "\n",
       "    .dataframe tbody tr th {\n",
       "        vertical-align: top;\n",
       "    }\n",
       "\n",
       "    .dataframe thead th {\n",
       "        text-align: right;\n",
       "    }\n",
       "</style>\n",
       "<table border=\"1\" class=\"dataframe\">\n",
       "  <thead>\n",
       "    <tr style=\"text-align: right;\">\n",
       "      <th></th>\n",
       "      <th>id</th>\n",
       "      <th>nct_id</th>\n",
       "      <th>name</th>\n",
       "      <th>downcase_name</th>\n",
       "    </tr>\n",
       "  </thead>\n",
       "  <tbody>\n",
       "    <tr>\n",
       "      <th>0</th>\n",
       "      <td>3072834</td>\n",
       "      <td>NCT03254264</td>\n",
       "      <td>Autism Spectrum Disorder</td>\n",
       "      <td>autism spectrum disorder</td>\n",
       "    </tr>\n",
       "    <tr>\n",
       "      <th>1</th>\n",
       "      <td>3072835</td>\n",
       "      <td>NCT03254329</td>\n",
       "      <td>Human Milk Nutrient Reference Values</td>\n",
       "      <td>human milk nutrient reference values</td>\n",
       "    </tr>\n",
       "    <tr>\n",
       "      <th>2</th>\n",
       "      <td>3349485</td>\n",
       "      <td>NCT03460652</td>\n",
       "      <td>ADHD</td>\n",
       "      <td>adhd</td>\n",
       "    </tr>\n",
       "    <tr>\n",
       "      <th>3</th>\n",
       "      <td>3349486</td>\n",
       "      <td>NCT03460899</td>\n",
       "      <td>Diabetes Mellitus With Hypoglycemia</td>\n",
       "      <td>diabetes mellitus with hypoglycemia</td>\n",
       "    </tr>\n",
       "    <tr>\n",
       "      <th>4</th>\n",
       "      <td>3072836</td>\n",
       "      <td>NCT03254342</td>\n",
       "      <td>Major Depressive Disorder</td>\n",
       "      <td>major depressive disorder</td>\n",
       "    </tr>\n",
       "    <tr>\n",
       "      <th>...</th>\n",
       "      <td>...</td>\n",
       "      <td>...</td>\n",
       "      <td>...</td>\n",
       "      <td>...</td>\n",
       "    </tr>\n",
       "    <tr>\n",
       "      <th>688783</th>\n",
       "      <td>3072052</td>\n",
       "      <td>NCT03261687</td>\n",
       "      <td>Pregnancy Related</td>\n",
       "      <td>pregnancy related</td>\n",
       "    </tr>\n",
       "    <tr>\n",
       "      <th>688784</th>\n",
       "      <td>3072053</td>\n",
       "      <td>NCT03261687</td>\n",
       "      <td>Pelvic Girdle Pain</td>\n",
       "      <td>pelvic girdle pain</td>\n",
       "    </tr>\n",
       "    <tr>\n",
       "      <th>688785</th>\n",
       "      <td>3072054</td>\n",
       "      <td>NCT03261622</td>\n",
       "      <td>Faecal Incontinence</td>\n",
       "      <td>faecal incontinence</td>\n",
       "    </tr>\n",
       "    <tr>\n",
       "      <th>688786</th>\n",
       "      <td>3072055</td>\n",
       "      <td>NCT03261622</td>\n",
       "      <td>Fecal Incontinence</td>\n",
       "      <td>fecal incontinence</td>\n",
       "    </tr>\n",
       "    <tr>\n",
       "      <th>688787</th>\n",
       "      <td>3072056</td>\n",
       "      <td>NCT03261934</td>\n",
       "      <td>Risk Assessment of Chronic Atrophic Gastritis ...</td>\n",
       "      <td>risk assessment of chronic atrophic gastritis ...</td>\n",
       "    </tr>\n",
       "  </tbody>\n",
       "</table>\n",
       "<p>688788 rows × 4 columns</p>\n",
       "</div>"
      ],
      "text/plain": [
       "             id       nct_id  \\\n",
       "0       3072834  NCT03254264   \n",
       "1       3072835  NCT03254329   \n",
       "2       3349485  NCT03460652   \n",
       "3       3349486  NCT03460899   \n",
       "4       3072836  NCT03254342   \n",
       "...         ...          ...   \n",
       "688783  3072052  NCT03261687   \n",
       "688784  3072053  NCT03261687   \n",
       "688785  3072054  NCT03261622   \n",
       "688786  3072055  NCT03261622   \n",
       "688787  3072056  NCT03261934   \n",
       "\n",
       "                                                     name  \\\n",
       "0                                Autism Spectrum Disorder   \n",
       "1                    Human Milk Nutrient Reference Values   \n",
       "2                                                    ADHD   \n",
       "3                     Diabetes Mellitus With Hypoglycemia   \n",
       "4                               Major Depressive Disorder   \n",
       "...                                                   ...   \n",
       "688783                                  Pregnancy Related   \n",
       "688784                                 Pelvic Girdle Pain   \n",
       "688785                                Faecal Incontinence   \n",
       "688786                                 Fecal Incontinence   \n",
       "688787  Risk Assessment of Chronic Atrophic Gastritis ...   \n",
       "\n",
       "                                            downcase_name  \n",
       "0                                autism spectrum disorder  \n",
       "1                    human milk nutrient reference values  \n",
       "2                                                    adhd  \n",
       "3                     diabetes mellitus with hypoglycemia  \n",
       "4                               major depressive disorder  \n",
       "...                                                   ...  \n",
       "688783                                  pregnancy related  \n",
       "688784                                 pelvic girdle pain  \n",
       "688785                                faecal incontinence  \n",
       "688786                                 fecal incontinence  \n",
       "688787  risk assessment of chronic atrophic gastritis ...  \n",
       "\n",
       "[688788 rows x 4 columns]"
      ]
     },
     "execution_count": 35,
     "metadata": {},
     "output_type": "execute_result"
    }
   ],
   "source": [
    "df"
   ]
  },
  {
   "cell_type": "code",
   "execution_count": null,
   "metadata": {},
   "outputs": [],
   "source": []
  }
 ],
 "metadata": {
  "kernelspec": {
   "display_name": "Python 3",
   "language": "python",
   "name": "python3"
  },
  "language_info": {
   "codemirror_mode": {
    "name": "ipython",
    "version": 3
   },
   "file_extension": ".py",
   "mimetype": "text/x-python",
   "name": "python",
   "nbconvert_exporter": "python",
   "pygments_lexer": "ipython3",
   "version": "3.7.6"
  }
 },
 "nbformat": 4,
 "nbformat_minor": 4
}
